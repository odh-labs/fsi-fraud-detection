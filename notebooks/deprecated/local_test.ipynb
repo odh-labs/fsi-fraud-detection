{
 "cells": [
  {
   "cell_type": "code",
   "execution_count": null,
   "id": "8d5450eb-8dc7-4141-8489-4151eae50472",
   "metadata": {},
   "outputs": [],
   "source": [
    "import json\n",
    "from flask import Flask, jsonify, request\n",
    "from prediction import predict\n",
    "application = Flask(__name__)\n",
    "\n",
    "\n",
    "@application.route('/')\n",
    "@application.route('/status')\n",
    "def status():\n",
    "    return jsonify({'status': 'ok'})\n",
    "\n",
    "\n",
    "@application.route('/predictions', methods=['POST'])\n",
    "def NlpClassification():\n",
    "    data = request.data or '{}'\n",
    "    # print (data)\n",
    "    body = json.loads(data)\n",
    "    # print (body)\n",
    "    return predict(body)\n",
    "\n"
   ]
  },
  {
   "cell_type": "code",
   "execution_count": 93,
   "id": "c75ddb27-ab81-4f99-8824-9deea42b61d8",
   "metadata": {},
   "outputs": [],
   "source": [
    "sample_data = {\"data\":\n",
    "# [\"could longer pay enormous charge hired company nl take either nothing pay day loan company accept term get several letter week threatened take civil action get check\"]\n",
    "\n",
    "#[0,-1.359807134,-0.072781173,2.536346738,1.378155224,-0.33832077,0.462387778,0.239598554,0.098697901,0.36378697,0.090794172,-0.551599533,-0.617800856,-0.991389847,-0.311169354,1.468176972,-0.470400525,0.207971242,0.02579058,0.40399296,0.251412098,-0.018306778,0.277837576,-0.11047391,0.066928075,0.128539358,-0.189114844,0.133558377,-0.021053053,149.62]\n",
    "# [79540,-0.140299279,-0.006159166,1.565336484,-1.031191483,-0.031727613,-0.01063822,0.685717545,-0.366033608,-1.001966554,0.705225711,1.193164513,0.763598193,0.275890509,-0.616943703,-1.579209423,-2.029535483,-0.105552329,0.591472606,-1.341815723,-0.473640221,-0.415372047,-0.272523306,-0.052493321,0.220966872,-0.372170411,0.080014127,-0.41167954,-0.422984811,28]\n",
    "               \n",
    "               \n",
    "# [79540,-0.114360704,1.036129402,1.984405261,3.128243274,-0.74034356,1.548618696,-1.701283955,-2.203841748,-1.242264775,0.269561809,1.293418297,0.933215784,-0.135325961,0.52148369,0.386884188,0.059868954,0.306339379,0.265051989,0.223718288,0.732852498,-1.032934652,1.19642831,-0.112856718,0.254718993,0.696667886,0.482370417,0.129969314,0.223924334,0.2]\n",
    " [77627,-7.139060068,2.773081604,-6.757845069,4.446455974,-5.464428185,-1.713401451,-6.485365409,3.409394799,-3.053492714,-6.260705515,2.394167666,-6.16353738,0.602850521,-5.606346429,0.206621734,-6.52508104,-11.40836754,-4.693977736,2.431274492,-0.616949301,1.303250309,-0.016118152,-0.876669888,0.382229801,-1.054623888,-0.614606037,-0.766848112,0.409423944,106.9]\n",
    "\n",
    "               \n",
    "               \n",
    "#[84204,-0.937843305,3.46288949,-6.445103954,4.932198666,-2.23398307,-2.291561121,-5.695593929,1.338824634,-4.322376553,-8.099119398,7.182967009,-9.445943382,-0.314619968,-12.99146558,-0.136358932,-6.367524375,-12.73439389,-3.845129659,1.00766726,1.129532281,1.066550249,-0.521657289,-0.319917293,-0.405859088,0.90680216,1.16578389,1.374495332,0.729889342,0]\n",
    "#[84204,-0.937843305,3.46288949,-6.445103954,4.932198666,-2.23398307,-2.291561121,-5.695593929,1.338824634,-4.322376553,-8.099119398,7.182967009,-9.445943382,-0.314619968,-12.99146558,-0.136358932,-6.367524375,-12.73439389,-3.845129659,1.00766726,1.129532281,1.066550249,-0.521657289,-0.319917293,-0.405859088,0.90680216,1.16578389,1.374495332,0.729889342,0]\n",
    "#[84204,-1.92745282,1.827620567,-7.019494685,5.34830324,-2.73918788,-2.107219296,-5.015847976,1.20586816,-4.382712509,-8.337706974,7.190306089,-9.42484446,-0.223292646,-12.87549422,-0.071918161,-6.299961398,-12.71920716,-3.740176156,0.84405961,2.172709056,1.376938323,-0.792016726,-0.771414188,-0.379574272,0.718716522,1.111151256,1.277707257,0.819081152,512.25]\n",
    "#[84204,-1.92745282,1.827620567,-7.019494685,5.34830324,-2.73918788,-2.107219296,-5.015847976,1.20586816,-4.382712509,-8.337706974,7.190306089,-9.42484446,-0.223292646,-12.87549422,-0.071918161,-6.299961398,-12.71920716,-3.740176156,0.84405961,2.172709056,1.376938323,-0.792016726,-0.771414188,-0.379574272,0.718716522,1.111151256,1.277707257,0.819081152,512.25]\n",
    "\n",
    "              \n",
    "              }\n",
    "\n"
   ]
  },
  {
   "cell_type": "code",
   "execution_count": 122,
   "id": "c58c9ff2-7309-469b-8728-184ee3c6a829",
   "metadata": {},
   "outputs": [
    {
     "name": "stdout",
     "output_type": "stream",
     "text": [
      "Loading model 3199\n",
      "Loaded model\n",
      "Models have just loaded!!!!\n"
     ]
    }
   ],
   "source": [
    "# Imports\n",
    "import glob\n",
    "import json\n",
    "import os\n",
    "from os.path import splitext,basename\n",
    "import uuid\n",
    "import base64\n",
    "\n",
    "import tensorflow as tf\n",
    "import joblib\n",
    "import numpy as np\n",
    "import json\n",
    "import traceback\n",
    "import sys\n",
    "import os\n",
    "import pickle\n",
    "from tensorflow.keras.preprocessing.sequence import pad_sequences\n",
    "modelType='ml'\n",
    "def load():\n",
    "    print(\"Loading model\",os.getpid())\n",
    "    if modelType == 'ml':\n",
    "        model = pickle.load(open('./models/finalized_ml_model.pkl', 'rb'))\n",
    "    else:\n",
    "\n",
    "        model = tf.keras.models.load_model('./models/finalized_dl_model.h5', compile=False)\n",
    "\n",
    "    scaler = joblib.load('./models/scaler.pkl')\n",
    "    \n",
    "    print(\"Loaded model\")\n",
    "    return model,scaler\n",
    "\n",
    "\n",
    "\n",
    "model,scaler= load()\n",
    "class_name = ['None Fraud', 'Fraud']\n",
    "print('Models have just loaded!!!!')\n",
    "def predict(X):\n",
    "    print ('Step1: Loading models')\n",
    "    print (X['data'])\n",
    "    print ('Step1 finished!!!!')\n",
    "    print ('Step2: Scaled the input data.')\n",
    "    model_ready_input = scaler.transform([X['data']])\n",
    "    print(model_ready_input)\n",
    "    print ('Step2 finished!!!!')\n",
    "    \n",
    "\n",
    "    print ('Step3:  Perform prediction!!!')\n",
    "    if modelType=='dl':\n",
    "        pred_prob = model.predict(model_ready_input)\n",
    "        predicted_class=int(np.round(pred_prob))\n",
    "    else:\n",
    "        predicted_class = int(model.predict(model_ready_input))\n",
    "        pred_prob = model.predict_proba(model_ready_input)[:, 1]\n",
    "        # predicted_class=np.round(result)\n",
    "    print ('Step3 finished!!!!')\n",
    "    # print(result)\n",
    "    print(predicted_class)\n",
    "    pred_label = class_name[predicted_class]\n",
    "    print('Predicted Class name: ', pred_label)\n",
    "\n",
    "    \n",
    "    # json_results = {\"Predicted Class\": str(predicted_class)}\n",
    "    json_results = {\"Predicted value\": str(predicted_class),\"Predicted Class Label\": pred_label,\"Predicted Class Probability\": pred_prob}\n",
    "    # print(json_results)\n",
    "    return json_results\n",
    "    \n",
    "\n",
    "class JsonSerializer(json.JSONEncoder):\n",
    "    def default(self, obj):\n",
    "        if isinstance(obj, (\n",
    "        np.int_, np.intc, np.intp, np.int8, np.int16, np.int32, np.int64, np.uint8, np.uint16, np.uint32, np.uint64)):\n",
    "            return int(obj)\n",
    "        elif isinstance(obj, (np.float_, np.float16, np.float32, np.float64)):\n",
    "            return float(obj)\n",
    "        elif isinstance(obj, (np.ndarray,)):\n",
    "            return obj.tolist()\n",
    "        return json.JSONEncoder.default(self, obj)"
   ]
  },
  {
   "cell_type": "code",
   "execution_count": 123,
   "id": "6d81ba1a-09a3-47bb-89a6-bdd9eaa53f03",
   "metadata": {},
   "outputs": [],
   "source": [
    "# body = json.loads(sample_data)\n",
    "json_data = json.dumps(sample_data)\n",
    "json_data = json.loads(json_data)"
   ]
  },
  {
   "cell_type": "code",
   "execution_count": 124,
   "id": "90f5171c-27a4-4811-a367-136f2de36786",
   "metadata": {},
   "outputs": [
    {
     "name": "stdout",
     "output_type": "stream",
     "text": [
      "Step1: Loading models\n",
      "[77627, -7.139060068, 2.773081604, -6.757845069, 4.446455974, -5.464428185, -1.713401451, -6.485365409, 3.409394799, -3.053492714, -6.260705515, 2.394167666, -6.16353738, 0.602850521, -5.606346429, 0.206621734, -6.52508104, -11.40836754, -4.693977736, 2.431274492, -0.616949301, 1.303250309, -0.016118152, -0.876669888, 0.382229801, -1.054623888, -0.614606037, -0.766848112, 0.409423944, 106.9]\n",
      "Step1 finished!!!!\n",
      "Step2: Scaled the input data.\n",
      "[[ -0.36191958  -3.64480926   1.67932663  -4.45693957   3.14044952\n",
      "   -3.95902967  -1.28607794  -5.24243016   2.85460083  -2.77936363\n",
      "   -5.7498442    2.34558765  -6.16847441   0.60571404  -5.84851026\n",
      "    0.22573854  -7.44658601 -13.43210847  -5.60023766   2.98668034\n",
      "   -0.80027287   1.77428181  -0.02221048  -1.40388658   0.63111091\n",
      "   -2.02315386  -1.27451822  -1.89987047   1.24036783   0.07416602]]\n",
      "Step2 finished!!!!\n",
      "Step3:  Perform prediction!!!\n",
      "Step3 finished!!!!\n",
      "1\n",
      "Predicted Class name:  Fraud\n"
     ]
    },
    {
     "name": "stderr",
     "output_type": "stream",
     "text": [
      "/opt/app-root/lib64/python3.8/site-packages/sklearn/base.py:450: UserWarning: X does not have valid feature names, but StandardScaler was fitted with feature names\n",
      "  warnings.warn(\n",
      "/opt/app-root/lib64/python3.8/site-packages/sklearn/base.py:450: UserWarning: X does not have valid feature names, but LogisticRegression was fitted with feature names\n",
      "  warnings.warn(\n",
      "/opt/app-root/lib64/python3.8/site-packages/sklearn/base.py:450: UserWarning: X does not have valid feature names, but LogisticRegression was fitted with feature names\n",
      "  warnings.warn(\n"
     ]
    },
    {
     "data": {
      "text/plain": [
       "{'Predicted value': '1',\n",
       " 'Predicted Class Label': 'Fraud',\n",
       " 'Predicted Class Probability': array([1.])}"
      ]
     },
     "execution_count": 124,
     "metadata": {},
     "output_type": "execute_result"
    }
   ],
   "source": [
    "predict(json_data)"
   ]
  },
  {
   "cell_type": "code",
   "execution_count": 115,
   "id": "d460f63a-4d89-4f30-9013-d35c28587412",
   "metadata": {},
   "outputs": [
    {
     "data": {
      "text/plain": [
       "{'data': [77627,\n",
       "  -7.139060068,\n",
       "  2.773081604,\n",
       "  -6.757845069,\n",
       "  4.446455974,\n",
       "  -5.464428185,\n",
       "  -1.713401451,\n",
       "  -6.485365409,\n",
       "  3.409394799,\n",
       "  -3.053492714,\n",
       "  -6.260705515,\n",
       "  2.394167666,\n",
       "  -6.16353738,\n",
       "  0.602850521,\n",
       "  -5.606346429,\n",
       "  0.206621734,\n",
       "  -6.52508104,\n",
       "  -11.40836754,\n",
       "  -4.693977736,\n",
       "  2.431274492,\n",
       "  -0.616949301,\n",
       "  1.303250309,\n",
       "  -0.016118152,\n",
       "  -0.876669888,\n",
       "  0.382229801,\n",
       "  -1.054623888,\n",
       "  -0.614606037,\n",
       "  -0.766848112,\n",
       "  0.409423944,\n",
       "  106.9]}"
      ]
     },
     "execution_count": 115,
     "metadata": {},
     "output_type": "execute_result"
    }
   ],
   "source": [
    "json_data"
   ]
  },
  {
   "cell_type": "code",
   "execution_count": 27,
   "id": "ce6ef575-3e0c-43ed-b27b-837ceb17e284",
   "metadata": {},
   "outputs": [
    {
     "data": {
      "text/plain": [
       "array([ 0.00000000e+00, -1.35980713e+00, -7.27811730e-02,  2.53634674e+00,\n",
       "        1.37815522e+00, -3.38320770e-01,  4.62387778e-01,  2.39598554e-01,\n",
       "        9.86979010e-02,  3.63786970e-01,  9.07941720e-02, -5.51599533e-01,\n",
       "       -6.17800856e-01, -9.91389847e-01, -3.11169354e-01,  1.46817697e+00,\n",
       "       -4.70400525e-01,  2.07971242e-01,  2.57905800e-02,  4.03992960e-01,\n",
       "        2.51412098e-01, -1.83067780e-02,  2.77837576e-01, -1.10473910e-01,\n",
       "        6.69280750e-02,  1.28539358e-01, -1.89114844e-01,  1.33558377e-01,\n",
       "       -2.10530530e-02,  1.49620000e+02])"
      ]
     },
     "execution_count": 27,
     "metadata": {},
     "output_type": "execute_result"
    }
   ],
   "source": [
    "np.array(json_data[\"data\"])"
   ]
  },
  {
   "cell_type": "code",
   "execution_count": 56,
   "id": "ab1c805c-f541-4577-b403-ac9d126e777b",
   "metadata": {},
   "outputs": [
    {
     "name": "stdout",
     "output_type": "stream",
     "text": [
      "Step1: Loading models\n",
      "[77627, -7.139060068, 2.773081604, -6.757845069, 4.446455974, -5.464428185, -1.713401451, -6.485365409, 3.409394799, -3.053492714, -6.260705515, 2.394167666, -6.16353738, 0.602850521, -5.606346429, 0.206621734, -6.52508104, -11.40836754, -4.693977736, 2.431274492, -0.616949301, 1.303250309, -0.016118152, -0.876669888, 0.382229801, -1.054623888, -0.614606037, -0.766848112, 0.409423944, 106.9]\n",
      "Step1 finished!!!!\n",
      "Step2: Scaled the input data.\n",
      "[[ -0.36191958  -3.64480926   1.67932663  -4.45693957   3.14044952\n",
      "   -3.95902967  -1.28607794  -5.24243016   2.85460083  -2.77936363\n",
      "   -5.7498442    2.34558765  -6.16847441   0.60571404  -5.84851026\n",
      "    0.22573854  -7.44658601 -13.43210847  -5.60023766   2.98668034\n",
      "   -0.80027287   1.77428181  -0.02221048  -1.40388658   0.63111091\n",
      "   -2.02315386  -1.27451822  -1.89987047   1.24036783   0.07416602]]\n",
      "Step2 finished!!!!\n",
      "Step3:  Do prediction!!!\n",
      "Step3 finished!!!!\n",
      "Predicted Class name:  [[3.2629534e-05]]\n"
     ]
    },
    {
     "name": "stderr",
     "output_type": "stream",
     "text": [
      "/opt/app-root/lib64/python3.8/site-packages/sklearn/base.py:450: UserWarning: X does not have valid feature names, but StandardScaler was fitted with feature names\n",
      "  warnings.warn(\n"
     ]
    },
    {
     "data": {
      "text/plain": [
       "{'Predicted Class': '[[3.2629534e-05]]'}"
      ]
     },
     "execution_count": 56,
     "metadata": {},
     "output_type": "execute_result"
    }
   ],
   "source": []
  },
  {
   "cell_type": "code",
   "execution_count": null,
   "id": "c88ab5ec-ef72-4507-9322-77b651e3686b",
   "metadata": {},
   "outputs": [],
   "source": []
  }
 ],
 "metadata": {
  "kernelspec": {
   "display_name": "Python 3 (ipykernel)",
   "language": "python",
   "name": "python3"
  },
  "language_info": {
   "codemirror_mode": {
    "name": "ipython",
    "version": 3
   },
   "file_extension": ".py",
   "mimetype": "text/x-python",
   "name": "python",
   "nbconvert_exporter": "python",
   "pygments_lexer": "ipython3",
   "version": "3.8.8"
  }
 },
 "nbformat": 4,
 "nbformat_minor": 5
}
