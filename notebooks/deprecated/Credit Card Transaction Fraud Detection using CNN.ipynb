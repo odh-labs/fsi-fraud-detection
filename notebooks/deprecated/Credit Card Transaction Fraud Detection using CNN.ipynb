{
 "cells": [
  {
   "cell_type": "markdown",
   "metadata": {},
   "source": [
    "## Credit Card Fraud Detection using CNN"
   ]
  },
  {
   "cell_type": "markdown",
   "metadata": {},
   "source": [
    "Watch Full Video Here: https://youtu.be/XFnLN84Fz24"
   ]
  },
  {
   "cell_type": "code",
   "execution_count": null,
   "metadata": {},
   "outputs": [],
   "source": [
    "#!pip install tensorflow-gpu==2.0.0-rc0\n",
    "# Keep your eyes for update: https://www.tensorflow.org/"
   ]
  },
  {
   "cell_type": "code",
   "execution_count": 1,
   "metadata": {},
   "outputs": [
    {
     "name": "stdout",
     "output_type": "stream",
     "text": [
      "2.7.0\n"
     ]
    }
   ],
   "source": [
    "import tensorflow as tf\n",
    "from tensorflow import keras\n",
    "from tensorflow.keras import Sequential\n",
    "from tensorflow.keras.layers import Flatten, Dense, Dropout, BatchNormalization\n",
    "from tensorflow.keras.layers import Conv1D, MaxPool1D\n",
    "from tensorflow.keras.optimizers import Adam\n",
    "print(tf.__version__)"
   ]
  },
  {
   "cell_type": "code",
   "execution_count": 2,
   "metadata": {},
   "outputs": [],
   "source": [
    "import pandas as pd\n",
    "import numpy as np\n",
    "from sklearn.metrics import confusion_matrix, accuracy_score, classification_report\n",
    "import  seaborn as sns\n",
    "import matplotlib.pyplot as plt\n",
    "from sklearn.model_selection import train_test_split\n",
    "from sklearn.preprocessing import StandardScaler"
   ]
  },
  {
   "cell_type": "code",
   "execution_count": 3,
   "metadata": {},
   "outputs": [
    {
     "data": {
      "text/html": [
       "<div>\n",
       "<style scoped>\n",
       "    .dataframe tbody tr th:only-of-type {\n",
       "        vertical-align: middle;\n",
       "    }\n",
       "\n",
       "    .dataframe tbody tr th {\n",
       "        vertical-align: top;\n",
       "    }\n",
       "\n",
       "    .dataframe thead th {\n",
       "        text-align: right;\n",
       "    }\n",
       "</style>\n",
       "<table border=\"1\" class=\"dataframe\">\n",
       "  <thead>\n",
       "    <tr style=\"text-align: right;\">\n",
       "      <th></th>\n",
       "      <th>Time</th>\n",
       "      <th>V1</th>\n",
       "      <th>V2</th>\n",
       "      <th>V3</th>\n",
       "      <th>V4</th>\n",
       "      <th>V5</th>\n",
       "      <th>V6</th>\n",
       "      <th>V7</th>\n",
       "      <th>V8</th>\n",
       "      <th>V9</th>\n",
       "      <th>...</th>\n",
       "      <th>V21</th>\n",
       "      <th>V22</th>\n",
       "      <th>V23</th>\n",
       "      <th>V24</th>\n",
       "      <th>V25</th>\n",
       "      <th>V26</th>\n",
       "      <th>V27</th>\n",
       "      <th>V28</th>\n",
       "      <th>Amount</th>\n",
       "      <th>Class</th>\n",
       "    </tr>\n",
       "  </thead>\n",
       "  <tbody>\n",
       "    <tr>\n",
       "      <th>0</th>\n",
       "      <td>0.0</td>\n",
       "      <td>-1.359807</td>\n",
       "      <td>-0.072781</td>\n",
       "      <td>2.536347</td>\n",
       "      <td>1.378155</td>\n",
       "      <td>-0.338321</td>\n",
       "      <td>0.462388</td>\n",
       "      <td>0.239599</td>\n",
       "      <td>0.098698</td>\n",
       "      <td>0.363787</td>\n",
       "      <td>...</td>\n",
       "      <td>-0.018307</td>\n",
       "      <td>0.277838</td>\n",
       "      <td>-0.110474</td>\n",
       "      <td>0.066928</td>\n",
       "      <td>0.128539</td>\n",
       "      <td>-0.189115</td>\n",
       "      <td>0.133558</td>\n",
       "      <td>-0.021053</td>\n",
       "      <td>149.62</td>\n",
       "      <td>0</td>\n",
       "    </tr>\n",
       "    <tr>\n",
       "      <th>1</th>\n",
       "      <td>0.0</td>\n",
       "      <td>1.191857</td>\n",
       "      <td>0.266151</td>\n",
       "      <td>0.166480</td>\n",
       "      <td>0.448154</td>\n",
       "      <td>0.060018</td>\n",
       "      <td>-0.082361</td>\n",
       "      <td>-0.078803</td>\n",
       "      <td>0.085102</td>\n",
       "      <td>-0.255425</td>\n",
       "      <td>...</td>\n",
       "      <td>-0.225775</td>\n",
       "      <td>-0.638672</td>\n",
       "      <td>0.101288</td>\n",
       "      <td>-0.339846</td>\n",
       "      <td>0.167170</td>\n",
       "      <td>0.125895</td>\n",
       "      <td>-0.008983</td>\n",
       "      <td>0.014724</td>\n",
       "      <td>2.69</td>\n",
       "      <td>0</td>\n",
       "    </tr>\n",
       "    <tr>\n",
       "      <th>2</th>\n",
       "      <td>1.0</td>\n",
       "      <td>-1.358354</td>\n",
       "      <td>-1.340163</td>\n",
       "      <td>1.773209</td>\n",
       "      <td>0.379780</td>\n",
       "      <td>-0.503198</td>\n",
       "      <td>1.800499</td>\n",
       "      <td>0.791461</td>\n",
       "      <td>0.247676</td>\n",
       "      <td>-1.514654</td>\n",
       "      <td>...</td>\n",
       "      <td>0.247998</td>\n",
       "      <td>0.771679</td>\n",
       "      <td>0.909412</td>\n",
       "      <td>-0.689281</td>\n",
       "      <td>-0.327642</td>\n",
       "      <td>-0.139097</td>\n",
       "      <td>-0.055353</td>\n",
       "      <td>-0.059752</td>\n",
       "      <td>378.66</td>\n",
       "      <td>0</td>\n",
       "    </tr>\n",
       "    <tr>\n",
       "      <th>3</th>\n",
       "      <td>1.0</td>\n",
       "      <td>-0.966272</td>\n",
       "      <td>-0.185226</td>\n",
       "      <td>1.792993</td>\n",
       "      <td>-0.863291</td>\n",
       "      <td>-0.010309</td>\n",
       "      <td>1.247203</td>\n",
       "      <td>0.237609</td>\n",
       "      <td>0.377436</td>\n",
       "      <td>-1.387024</td>\n",
       "      <td>...</td>\n",
       "      <td>-0.108300</td>\n",
       "      <td>0.005274</td>\n",
       "      <td>-0.190321</td>\n",
       "      <td>-1.175575</td>\n",
       "      <td>0.647376</td>\n",
       "      <td>-0.221929</td>\n",
       "      <td>0.062723</td>\n",
       "      <td>0.061458</td>\n",
       "      <td>123.50</td>\n",
       "      <td>0</td>\n",
       "    </tr>\n",
       "    <tr>\n",
       "      <th>4</th>\n",
       "      <td>2.0</td>\n",
       "      <td>-1.158233</td>\n",
       "      <td>0.877737</td>\n",
       "      <td>1.548718</td>\n",
       "      <td>0.403034</td>\n",
       "      <td>-0.407193</td>\n",
       "      <td>0.095921</td>\n",
       "      <td>0.592941</td>\n",
       "      <td>-0.270533</td>\n",
       "      <td>0.817739</td>\n",
       "      <td>...</td>\n",
       "      <td>-0.009431</td>\n",
       "      <td>0.798278</td>\n",
       "      <td>-0.137458</td>\n",
       "      <td>0.141267</td>\n",
       "      <td>-0.206010</td>\n",
       "      <td>0.502292</td>\n",
       "      <td>0.219422</td>\n",
       "      <td>0.215153</td>\n",
       "      <td>69.99</td>\n",
       "      <td>0</td>\n",
       "    </tr>\n",
       "  </tbody>\n",
       "</table>\n",
       "<p>5 rows × 31 columns</p>\n",
       "</div>"
      ],
      "text/plain": [
       "   Time        V1        V2        V3        V4        V5        V6        V7  \\\n",
       "0   0.0 -1.359807 -0.072781  2.536347  1.378155 -0.338321  0.462388  0.239599   \n",
       "1   0.0  1.191857  0.266151  0.166480  0.448154  0.060018 -0.082361 -0.078803   \n",
       "2   1.0 -1.358354 -1.340163  1.773209  0.379780 -0.503198  1.800499  0.791461   \n",
       "3   1.0 -0.966272 -0.185226  1.792993 -0.863291 -0.010309  1.247203  0.237609   \n",
       "4   2.0 -1.158233  0.877737  1.548718  0.403034 -0.407193  0.095921  0.592941   \n",
       "\n",
       "         V8        V9  ...       V21       V22       V23       V24       V25  \\\n",
       "0  0.098698  0.363787  ... -0.018307  0.277838 -0.110474  0.066928  0.128539   \n",
       "1  0.085102 -0.255425  ... -0.225775 -0.638672  0.101288 -0.339846  0.167170   \n",
       "2  0.247676 -1.514654  ...  0.247998  0.771679  0.909412 -0.689281 -0.327642   \n",
       "3  0.377436 -1.387024  ... -0.108300  0.005274 -0.190321 -1.175575  0.647376   \n",
       "4 -0.270533  0.817739  ... -0.009431  0.798278 -0.137458  0.141267 -0.206010   \n",
       "\n",
       "        V26       V27       V28  Amount  Class  \n",
       "0 -0.189115  0.133558 -0.021053  149.62      0  \n",
       "1  0.125895 -0.008983  0.014724    2.69      0  \n",
       "2 -0.139097 -0.055353 -0.059752  378.66      0  \n",
       "3 -0.221929  0.062723  0.061458  123.50      0  \n",
       "4  0.502292  0.219422  0.215153   69.99      0  \n",
       "\n",
       "[5 rows x 31 columns]"
      ]
     },
     "execution_count": 3,
     "metadata": {},
     "output_type": "execute_result"
    }
   ],
   "source": [
    "data = pd.read_csv(\"../data/creditcard.csv\")\n",
    "data.head()"
   ]
  },
  {
   "cell_type": "code",
   "execution_count": 4,
   "metadata": {},
   "outputs": [
    {
     "data": {
      "text/plain": [
       "(284807, 31)"
      ]
     },
     "execution_count": 4,
     "metadata": {},
     "output_type": "execute_result"
    }
   ],
   "source": [
    "data.shape"
   ]
  },
  {
   "cell_type": "code",
   "execution_count": 5,
   "metadata": {},
   "outputs": [
    {
     "data": {
      "text/plain": [
       "Time      0\n",
       "V1        0\n",
       "V2        0\n",
       "V3        0\n",
       "V4        0\n",
       "V5        0\n",
       "V6        0\n",
       "V7        0\n",
       "V8        0\n",
       "V9        0\n",
       "V10       0\n",
       "V11       0\n",
       "V12       0\n",
       "V13       0\n",
       "V14       0\n",
       "V15       0\n",
       "V16       0\n",
       "V17       0\n",
       "V18       0\n",
       "V19       0\n",
       "V20       0\n",
       "V21       0\n",
       "V22       0\n",
       "V23       0\n",
       "V24       0\n",
       "V25       0\n",
       "V26       0\n",
       "V27       0\n",
       "V28       0\n",
       "Amount    0\n",
       "Class     0\n",
       "dtype: int64"
      ]
     },
     "execution_count": 5,
     "metadata": {},
     "output_type": "execute_result"
    }
   ],
   "source": [
    "data.isnull().sum()"
   ]
  },
  {
   "cell_type": "code",
   "execution_count": 6,
   "metadata": {
    "scrolled": true
   },
   "outputs": [
    {
     "name": "stdout",
     "output_type": "stream",
     "text": [
      "<class 'pandas.core.frame.DataFrame'>\n",
      "RangeIndex: 284807 entries, 0 to 284806\n",
      "Data columns (total 31 columns):\n",
      " #   Column  Non-Null Count   Dtype  \n",
      "---  ------  --------------   -----  \n",
      " 0   Time    284807 non-null  float64\n",
      " 1   V1      284807 non-null  float64\n",
      " 2   V2      284807 non-null  float64\n",
      " 3   V3      284807 non-null  float64\n",
      " 4   V4      284807 non-null  float64\n",
      " 5   V5      284807 non-null  float64\n",
      " 6   V6      284807 non-null  float64\n",
      " 7   V7      284807 non-null  float64\n",
      " 8   V8      284807 non-null  float64\n",
      " 9   V9      284807 non-null  float64\n",
      " 10  V10     284807 non-null  float64\n",
      " 11  V11     284807 non-null  float64\n",
      " 12  V12     284807 non-null  float64\n",
      " 13  V13     284807 non-null  float64\n",
      " 14  V14     284807 non-null  float64\n",
      " 15  V15     284807 non-null  float64\n",
      " 16  V16     284807 non-null  float64\n",
      " 17  V17     284807 non-null  float64\n",
      " 18  V18     284807 non-null  float64\n",
      " 19  V19     284807 non-null  float64\n",
      " 20  V20     284807 non-null  float64\n",
      " 21  V21     284807 non-null  float64\n",
      " 22  V22     284807 non-null  float64\n",
      " 23  V23     284807 non-null  float64\n",
      " 24  V24     284807 non-null  float64\n",
      " 25  V25     284807 non-null  float64\n",
      " 26  V26     284807 non-null  float64\n",
      " 27  V27     284807 non-null  float64\n",
      " 28  V28     284807 non-null  float64\n",
      " 29  Amount  284807 non-null  float64\n",
      " 30  Class   284807 non-null  int64  \n",
      "dtypes: float64(30), int64(1)\n",
      "memory usage: 67.4 MB\n"
     ]
    }
   ],
   "source": [
    "data.info()"
   ]
  },
  {
   "cell_type": "code",
   "execution_count": 7,
   "metadata": {},
   "outputs": [
    {
     "data": {
      "text/plain": [
       "0    284315\n",
       "1       492\n",
       "Name: Class, dtype: int64"
      ]
     },
     "execution_count": 7,
     "metadata": {},
     "output_type": "execute_result"
    }
   ],
   "source": [
    "data['Class'].value_counts()"
   ]
  },
  {
   "cell_type": "markdown",
   "metadata": {},
   "source": [
    "### Balance Dataset "
   ]
  },
  {
   "cell_type": "code",
   "execution_count": 8,
   "metadata": {},
   "outputs": [],
   "source": [
    "non_fraud = data[data['Class']==0]\n",
    "fraud = data[data['Class']==1]"
   ]
  },
  {
   "cell_type": "code",
   "execution_count": 9,
   "metadata": {},
   "outputs": [
    {
     "data": {
      "text/plain": [
       "((284315, 31), (492, 31))"
      ]
     },
     "execution_count": 9,
     "metadata": {},
     "output_type": "execute_result"
    }
   ],
   "source": [
    "non_fraud.shape, fraud.shape"
   ]
  },
  {
   "cell_type": "code",
   "execution_count": 10,
   "metadata": {},
   "outputs": [
    {
     "data": {
      "text/plain": [
       "(492, 31)"
      ]
     },
     "execution_count": 10,
     "metadata": {},
     "output_type": "execute_result"
    }
   ],
   "source": [
    "non_fraud = non_fraud.sample(fraud.shape[0])\n",
    "non_fraud.shape"
   ]
  },
  {
   "cell_type": "code",
   "execution_count": 11,
   "metadata": {},
   "outputs": [
    {
     "data": {
      "text/html": [
       "<div>\n",
       "<style scoped>\n",
       "    .dataframe tbody tr th:only-of-type {\n",
       "        vertical-align: middle;\n",
       "    }\n",
       "\n",
       "    .dataframe tbody tr th {\n",
       "        vertical-align: top;\n",
       "    }\n",
       "\n",
       "    .dataframe thead th {\n",
       "        text-align: right;\n",
       "    }\n",
       "</style>\n",
       "<table border=\"1\" class=\"dataframe\">\n",
       "  <thead>\n",
       "    <tr style=\"text-align: right;\">\n",
       "      <th></th>\n",
       "      <th>Time</th>\n",
       "      <th>V1</th>\n",
       "      <th>V2</th>\n",
       "      <th>V3</th>\n",
       "      <th>V4</th>\n",
       "      <th>V5</th>\n",
       "      <th>V6</th>\n",
       "      <th>V7</th>\n",
       "      <th>V8</th>\n",
       "      <th>V9</th>\n",
       "      <th>...</th>\n",
       "      <th>V21</th>\n",
       "      <th>V22</th>\n",
       "      <th>V23</th>\n",
       "      <th>V24</th>\n",
       "      <th>V25</th>\n",
       "      <th>V26</th>\n",
       "      <th>V27</th>\n",
       "      <th>V28</th>\n",
       "      <th>Amount</th>\n",
       "      <th>Class</th>\n",
       "    </tr>\n",
       "  </thead>\n",
       "  <tbody>\n",
       "    <tr>\n",
       "      <th>0</th>\n",
       "      <td>406.0</td>\n",
       "      <td>-2.312227</td>\n",
       "      <td>1.951992</td>\n",
       "      <td>-1.609851</td>\n",
       "      <td>3.997906</td>\n",
       "      <td>-0.522188</td>\n",
       "      <td>-1.426545</td>\n",
       "      <td>-2.537387</td>\n",
       "      <td>1.391657</td>\n",
       "      <td>-2.770089</td>\n",
       "      <td>...</td>\n",
       "      <td>0.517232</td>\n",
       "      <td>-0.035049</td>\n",
       "      <td>-0.465211</td>\n",
       "      <td>0.320198</td>\n",
       "      <td>0.044519</td>\n",
       "      <td>0.177840</td>\n",
       "      <td>0.261145</td>\n",
       "      <td>-0.143276</td>\n",
       "      <td>0.00</td>\n",
       "      <td>1</td>\n",
       "    </tr>\n",
       "    <tr>\n",
       "      <th>1</th>\n",
       "      <td>472.0</td>\n",
       "      <td>-3.043541</td>\n",
       "      <td>-3.157307</td>\n",
       "      <td>1.088463</td>\n",
       "      <td>2.288644</td>\n",
       "      <td>1.359805</td>\n",
       "      <td>-1.064823</td>\n",
       "      <td>0.325574</td>\n",
       "      <td>-0.067794</td>\n",
       "      <td>-0.270953</td>\n",
       "      <td>...</td>\n",
       "      <td>0.661696</td>\n",
       "      <td>0.435477</td>\n",
       "      <td>1.375966</td>\n",
       "      <td>-0.293803</td>\n",
       "      <td>0.279798</td>\n",
       "      <td>-0.145362</td>\n",
       "      <td>-0.252773</td>\n",
       "      <td>0.035764</td>\n",
       "      <td>529.00</td>\n",
       "      <td>1</td>\n",
       "    </tr>\n",
       "    <tr>\n",
       "      <th>2</th>\n",
       "      <td>4462.0</td>\n",
       "      <td>-2.303350</td>\n",
       "      <td>1.759247</td>\n",
       "      <td>-0.359745</td>\n",
       "      <td>2.330243</td>\n",
       "      <td>-0.821628</td>\n",
       "      <td>-0.075788</td>\n",
       "      <td>0.562320</td>\n",
       "      <td>-0.399147</td>\n",
       "      <td>-0.238253</td>\n",
       "      <td>...</td>\n",
       "      <td>-0.294166</td>\n",
       "      <td>-0.932391</td>\n",
       "      <td>0.172726</td>\n",
       "      <td>-0.087330</td>\n",
       "      <td>-0.156114</td>\n",
       "      <td>-0.542628</td>\n",
       "      <td>0.039566</td>\n",
       "      <td>-0.153029</td>\n",
       "      <td>239.93</td>\n",
       "      <td>1</td>\n",
       "    </tr>\n",
       "    <tr>\n",
       "      <th>3</th>\n",
       "      <td>6986.0</td>\n",
       "      <td>-4.397974</td>\n",
       "      <td>1.358367</td>\n",
       "      <td>-2.592844</td>\n",
       "      <td>2.679787</td>\n",
       "      <td>-1.128131</td>\n",
       "      <td>-1.706536</td>\n",
       "      <td>-3.496197</td>\n",
       "      <td>-0.248778</td>\n",
       "      <td>-0.247768</td>\n",
       "      <td>...</td>\n",
       "      <td>0.573574</td>\n",
       "      <td>0.176968</td>\n",
       "      <td>-0.436207</td>\n",
       "      <td>-0.053502</td>\n",
       "      <td>0.252405</td>\n",
       "      <td>-0.657488</td>\n",
       "      <td>-0.827136</td>\n",
       "      <td>0.849573</td>\n",
       "      <td>59.00</td>\n",
       "      <td>1</td>\n",
       "    </tr>\n",
       "    <tr>\n",
       "      <th>4</th>\n",
       "      <td>7519.0</td>\n",
       "      <td>1.234235</td>\n",
       "      <td>3.019740</td>\n",
       "      <td>-4.304597</td>\n",
       "      <td>4.732795</td>\n",
       "      <td>3.624201</td>\n",
       "      <td>-1.357746</td>\n",
       "      <td>1.713445</td>\n",
       "      <td>-0.496358</td>\n",
       "      <td>-1.282858</td>\n",
       "      <td>...</td>\n",
       "      <td>-0.379068</td>\n",
       "      <td>-0.704181</td>\n",
       "      <td>-0.656805</td>\n",
       "      <td>-1.632653</td>\n",
       "      <td>1.488901</td>\n",
       "      <td>0.566797</td>\n",
       "      <td>-0.010016</td>\n",
       "      <td>0.146793</td>\n",
       "      <td>1.00</td>\n",
       "      <td>1</td>\n",
       "    </tr>\n",
       "    <tr>\n",
       "      <th>...</th>\n",
       "      <td>...</td>\n",
       "      <td>...</td>\n",
       "      <td>...</td>\n",
       "      <td>...</td>\n",
       "      <td>...</td>\n",
       "      <td>...</td>\n",
       "      <td>...</td>\n",
       "      <td>...</td>\n",
       "      <td>...</td>\n",
       "      <td>...</td>\n",
       "      <td>...</td>\n",
       "      <td>...</td>\n",
       "      <td>...</td>\n",
       "      <td>...</td>\n",
       "      <td>...</td>\n",
       "      <td>...</td>\n",
       "      <td>...</td>\n",
       "      <td>...</td>\n",
       "      <td>...</td>\n",
       "      <td>...</td>\n",
       "      <td>...</td>\n",
       "    </tr>\n",
       "    <tr>\n",
       "      <th>979</th>\n",
       "      <td>164746.0</td>\n",
       "      <td>-0.876657</td>\n",
       "      <td>-0.586916</td>\n",
       "      <td>-1.095749</td>\n",
       "      <td>-1.285611</td>\n",
       "      <td>1.006631</td>\n",
       "      <td>-0.132231</td>\n",
       "      <td>0.203147</td>\n",
       "      <td>0.385406</td>\n",
       "      <td>-1.906365</td>\n",
       "      <td>...</td>\n",
       "      <td>-0.017737</td>\n",
       "      <td>-0.136587</td>\n",
       "      <td>0.093421</td>\n",
       "      <td>-0.341172</td>\n",
       "      <td>-0.561103</td>\n",
       "      <td>0.651494</td>\n",
       "      <td>0.002078</td>\n",
       "      <td>-0.000691</td>\n",
       "      <td>100.00</td>\n",
       "      <td>0</td>\n",
       "    </tr>\n",
       "    <tr>\n",
       "      <th>980</th>\n",
       "      <td>148582.0</td>\n",
       "      <td>-0.237701</td>\n",
       "      <td>0.993616</td>\n",
       "      <td>-0.539478</td>\n",
       "      <td>-0.785342</td>\n",
       "      <td>0.524401</td>\n",
       "      <td>-0.509562</td>\n",
       "      <td>0.566885</td>\n",
       "      <td>0.370221</td>\n",
       "      <td>0.013365</td>\n",
       "      <td>...</td>\n",
       "      <td>-0.289991</td>\n",
       "      <td>-0.837208</td>\n",
       "      <td>0.028887</td>\n",
       "      <td>-1.100284</td>\n",
       "      <td>-0.372900</td>\n",
       "      <td>0.214221</td>\n",
       "      <td>0.114693</td>\n",
       "      <td>0.022142</td>\n",
       "      <td>9.72</td>\n",
       "      <td>0</td>\n",
       "    </tr>\n",
       "    <tr>\n",
       "      <th>981</th>\n",
       "      <td>165317.0</td>\n",
       "      <td>2.050143</td>\n",
       "      <td>0.203026</td>\n",
       "      <td>-1.731782</td>\n",
       "      <td>0.512536</td>\n",
       "      <td>0.224356</td>\n",
       "      <td>-1.399053</td>\n",
       "      <td>0.264661</td>\n",
       "      <td>-0.369747</td>\n",
       "      <td>0.585460</td>\n",
       "      <td>...</td>\n",
       "      <td>0.198524</td>\n",
       "      <td>0.755984</td>\n",
       "      <td>-0.024602</td>\n",
       "      <td>-0.145830</td>\n",
       "      <td>0.248958</td>\n",
       "      <td>-0.094338</td>\n",
       "      <td>0.000783</td>\n",
       "      <td>-0.031969</td>\n",
       "      <td>5.15</td>\n",
       "      <td>0</td>\n",
       "    </tr>\n",
       "    <tr>\n",
       "      <th>982</th>\n",
       "      <td>73195.0</td>\n",
       "      <td>1.251891</td>\n",
       "      <td>0.389462</td>\n",
       "      <td>0.313362</td>\n",
       "      <td>0.688551</td>\n",
       "      <td>-0.317907</td>\n",
       "      <td>-1.054855</td>\n",
       "      <td>0.131238</td>\n",
       "      <td>-0.238530</td>\n",
       "      <td>-0.058946</td>\n",
       "      <td>...</td>\n",
       "      <td>-0.279372</td>\n",
       "      <td>-0.782849</td>\n",
       "      <td>0.119054</td>\n",
       "      <td>0.356496</td>\n",
       "      <td>0.236263</td>\n",
       "      <td>0.092434</td>\n",
       "      <td>-0.019641</td>\n",
       "      <td>0.032537</td>\n",
       "      <td>4.49</td>\n",
       "      <td>0</td>\n",
       "    </tr>\n",
       "    <tr>\n",
       "      <th>983</th>\n",
       "      <td>121269.0</td>\n",
       "      <td>1.934067</td>\n",
       "      <td>-0.313208</td>\n",
       "      <td>-1.383472</td>\n",
       "      <td>0.281418</td>\n",
       "      <td>-0.113376</td>\n",
       "      <td>-1.144897</td>\n",
       "      <td>0.226406</td>\n",
       "      <td>-0.339610</td>\n",
       "      <td>0.397701</td>\n",
       "      <td>...</td>\n",
       "      <td>0.268115</td>\n",
       "      <td>0.687417</td>\n",
       "      <td>0.069308</td>\n",
       "      <td>1.219520</td>\n",
       "      <td>-0.005391</td>\n",
       "      <td>0.721384</td>\n",
       "      <td>-0.109041</td>\n",
       "      <td>-0.047763</td>\n",
       "      <td>74.95</td>\n",
       "      <td>0</td>\n",
       "    </tr>\n",
       "  </tbody>\n",
       "</table>\n",
       "<p>984 rows × 31 columns</p>\n",
       "</div>"
      ],
      "text/plain": [
       "         Time        V1        V2        V3        V4        V5        V6  \\\n",
       "0       406.0 -2.312227  1.951992 -1.609851  3.997906 -0.522188 -1.426545   \n",
       "1       472.0 -3.043541 -3.157307  1.088463  2.288644  1.359805 -1.064823   \n",
       "2      4462.0 -2.303350  1.759247 -0.359745  2.330243 -0.821628 -0.075788   \n",
       "3      6986.0 -4.397974  1.358367 -2.592844  2.679787 -1.128131 -1.706536   \n",
       "4      7519.0  1.234235  3.019740 -4.304597  4.732795  3.624201 -1.357746   \n",
       "..        ...       ...       ...       ...       ...       ...       ...   \n",
       "979  164746.0 -0.876657 -0.586916 -1.095749 -1.285611  1.006631 -0.132231   \n",
       "980  148582.0 -0.237701  0.993616 -0.539478 -0.785342  0.524401 -0.509562   \n",
       "981  165317.0  2.050143  0.203026 -1.731782  0.512536  0.224356 -1.399053   \n",
       "982   73195.0  1.251891  0.389462  0.313362  0.688551 -0.317907 -1.054855   \n",
       "983  121269.0  1.934067 -0.313208 -1.383472  0.281418 -0.113376 -1.144897   \n",
       "\n",
       "           V7        V8        V9  ...       V21       V22       V23  \\\n",
       "0   -2.537387  1.391657 -2.770089  ...  0.517232 -0.035049 -0.465211   \n",
       "1    0.325574 -0.067794 -0.270953  ...  0.661696  0.435477  1.375966   \n",
       "2    0.562320 -0.399147 -0.238253  ... -0.294166 -0.932391  0.172726   \n",
       "3   -3.496197 -0.248778 -0.247768  ...  0.573574  0.176968 -0.436207   \n",
       "4    1.713445 -0.496358 -1.282858  ... -0.379068 -0.704181 -0.656805   \n",
       "..        ...       ...       ...  ...       ...       ...       ...   \n",
       "979  0.203147  0.385406 -1.906365  ... -0.017737 -0.136587  0.093421   \n",
       "980  0.566885  0.370221  0.013365  ... -0.289991 -0.837208  0.028887   \n",
       "981  0.264661 -0.369747  0.585460  ...  0.198524  0.755984 -0.024602   \n",
       "982  0.131238 -0.238530 -0.058946  ... -0.279372 -0.782849  0.119054   \n",
       "983  0.226406 -0.339610  0.397701  ...  0.268115  0.687417  0.069308   \n",
       "\n",
       "          V24       V25       V26       V27       V28  Amount  Class  \n",
       "0    0.320198  0.044519  0.177840  0.261145 -0.143276    0.00      1  \n",
       "1   -0.293803  0.279798 -0.145362 -0.252773  0.035764  529.00      1  \n",
       "2   -0.087330 -0.156114 -0.542628  0.039566 -0.153029  239.93      1  \n",
       "3   -0.053502  0.252405 -0.657488 -0.827136  0.849573   59.00      1  \n",
       "4   -1.632653  1.488901  0.566797 -0.010016  0.146793    1.00      1  \n",
       "..        ...       ...       ...       ...       ...     ...    ...  \n",
       "979 -0.341172 -0.561103  0.651494  0.002078 -0.000691  100.00      0  \n",
       "980 -1.100284 -0.372900  0.214221  0.114693  0.022142    9.72      0  \n",
       "981 -0.145830  0.248958 -0.094338  0.000783 -0.031969    5.15      0  \n",
       "982  0.356496  0.236263  0.092434 -0.019641  0.032537    4.49      0  \n",
       "983  1.219520 -0.005391  0.721384 -0.109041 -0.047763   74.95      0  \n",
       "\n",
       "[984 rows x 31 columns]"
      ]
     },
     "execution_count": 11,
     "metadata": {},
     "output_type": "execute_result"
    }
   ],
   "source": [
    "data = fraud.append(non_fraud, ignore_index=True)\n",
    "data"
   ]
  },
  {
   "cell_type": "code",
   "execution_count": 12,
   "metadata": {},
   "outputs": [
    {
     "data": {
      "text/plain": [
       "0    492\n",
       "1    492\n",
       "Name: Class, dtype: int64"
      ]
     },
     "execution_count": 12,
     "metadata": {},
     "output_type": "execute_result"
    }
   ],
   "source": [
    "data['Class'].value_counts()"
   ]
  },
  {
   "cell_type": "code",
   "execution_count": 13,
   "metadata": {},
   "outputs": [],
   "source": [
    "X = data.drop('Class', axis = 1)\n",
    "y = data['Class']"
   ]
  },
  {
   "cell_type": "code",
   "execution_count": 14,
   "metadata": {},
   "outputs": [],
   "source": [
    "X_train, X_test, y_train, y_test = train_test_split(X, y, test_size = 0.2, random_state = 0, stratify = y)"
   ]
  },
  {
   "cell_type": "code",
   "execution_count": 15,
   "metadata": {},
   "outputs": [
    {
     "data": {
      "text/plain": [
       "((787, 30), (197, 30))"
      ]
     },
     "execution_count": 15,
     "metadata": {},
     "output_type": "execute_result"
    }
   ],
   "source": [
    "X_train.shape, X_test.shape"
   ]
  },
  {
   "cell_type": "code",
   "execution_count": 16,
   "metadata": {},
   "outputs": [],
   "source": [
    "scaler = StandardScaler()\n",
    "X_train = scaler.fit_transform(X_train)\n",
    "X_test = scaler.transform(X_test)"
   ]
  },
  {
   "cell_type": "code",
   "execution_count": 17,
   "metadata": {},
   "outputs": [],
   "source": [
    "y_train = y_train.to_numpy()\n",
    "y_test = y_test.to_numpy()"
   ]
  },
  {
   "cell_type": "code",
   "execution_count": 18,
   "metadata": {},
   "outputs": [
    {
     "data": {
      "text/plain": [
       "(787, 30)"
      ]
     },
     "execution_count": 18,
     "metadata": {},
     "output_type": "execute_result"
    }
   ],
   "source": [
    "X_train.shape"
   ]
  },
  {
   "cell_type": "code",
   "execution_count": 19,
   "metadata": {},
   "outputs": [],
   "source": [
    "X_train = X_train.reshape(X_train.shape[0], X_train.shape[1], 1)\n",
    "X_test = X_test.reshape(X_test.shape[0], X_test.shape[1], 1)"
   ]
  },
  {
   "cell_type": "code",
   "execution_count": 20,
   "metadata": {},
   "outputs": [
    {
     "data": {
      "text/plain": [
       "((787, 30, 1), (197, 30, 1))"
      ]
     },
     "execution_count": 20,
     "metadata": {},
     "output_type": "execute_result"
    }
   ],
   "source": [
    "X_train.shape, X_test.shape"
   ]
  },
  {
   "cell_type": "markdown",
   "metadata": {},
   "source": [
    "### Build CNN "
   ]
  },
  {
   "cell_type": "code",
   "execution_count": 21,
   "metadata": {},
   "outputs": [
    {
     "name": "stderr",
     "output_type": "stream",
     "text": [
      "2022-03-30 22:33:00.457476: W tensorflow/stream_executor/platform/default/dso_loader.cc:64] Could not load dynamic library 'libcuda.so.1'; dlerror: libcuda.so.1: cannot open shared object file: No such file or directory; LD_LIBRARY_PATH: /usr/local/nvidia/lib:/usr/local/nvidia/lib64\n",
      "2022-03-30 22:33:00.457530: W tensorflow/stream_executor/cuda/cuda_driver.cc:269] failed call to cuInit: UNKNOWN ERROR (303)\n",
      "2022-03-30 22:33:00.457585: I tensorflow/stream_executor/cuda/cuda_diagnostics.cc:156] kernel driver does not appear to be running on this host (jupyterhub-nb-skasmani-40redhat-2ecom): /proc/driver/nvidia/version does not exist\n",
      "2022-03-30 22:33:00.457951: I tensorflow/core/platform/cpu_feature_guard.cc:151] This TensorFlow binary is optimized with oneAPI Deep Neural Network Library (oneDNN) to use the following CPU instructions in performance-critical operations:  AVX2 AVX512F FMA\n",
      "To enable them in other operations, rebuild TensorFlow with the appropriate compiler flags.\n"
     ]
    }
   ],
   "source": [
    "epochs = 20\n",
    "model = Sequential()\n",
    "model.add(Conv1D(32, 2, activation='relu', input_shape = X_train[0].shape))\n",
    "model.add(BatchNormalization())\n",
    "model.add(Dropout(0.2))\n",
    "\n",
    "model.add(Conv1D(64, 2, activation='relu'))\n",
    "model.add(BatchNormalization())\n",
    "model.add(Dropout(0.5))\n",
    "\n",
    "model.add(Flatten())\n",
    "model.add(Dense(64, activation='relu'))\n",
    "model.add(Dropout(0.5))\n",
    "\n",
    "model.add(Dense(1, activation='sigmoid'))\n"
   ]
  },
  {
   "cell_type": "code",
   "execution_count": 22,
   "metadata": {},
   "outputs": [
    {
     "name": "stdout",
     "output_type": "stream",
     "text": [
      "Model: \"sequential\"\n",
      "_________________________________________________________________\n",
      " Layer (type)                Output Shape              Param #   \n",
      "=================================================================\n",
      " conv1d (Conv1D)             (None, 29, 32)            96        \n",
      "                                                                 \n",
      " batch_normalization (BatchN  (None, 29, 32)           128       \n",
      " ormalization)                                                   \n",
      "                                                                 \n",
      " dropout (Dropout)           (None, 29, 32)            0         \n",
      "                                                                 \n",
      " conv1d_1 (Conv1D)           (None, 28, 64)            4160      \n",
      "                                                                 \n",
      " batch_normalization_1 (Batc  (None, 28, 64)           256       \n",
      " hNormalization)                                                 \n",
      "                                                                 \n",
      " dropout_1 (Dropout)         (None, 28, 64)            0         \n",
      "                                                                 \n",
      " flatten (Flatten)           (None, 1792)              0         \n",
      "                                                                 \n",
      " dense (Dense)               (None, 64)                114752    \n",
      "                                                                 \n",
      " dropout_2 (Dropout)         (None, 64)                0         \n",
      "                                                                 \n",
      " dense_1 (Dense)             (None, 1)                 65        \n",
      "                                                                 \n",
      "=================================================================\n",
      "Total params: 119,457\n",
      "Trainable params: 119,265\n",
      "Non-trainable params: 192\n",
      "_________________________________________________________________\n"
     ]
    }
   ],
   "source": [
    "model.summary()"
   ]
  },
  {
   "cell_type": "code",
   "execution_count": 23,
   "metadata": {},
   "outputs": [
    {
     "name": "stderr",
     "output_type": "stream",
     "text": [
      "/opt/app-root/lib64/python3.8/site-packages/keras/optimizer_v2/adam.py:105: UserWarning: The `lr` argument is deprecated, use `learning_rate` instead.\n",
      "  super(Adam, self).__init__(name, **kwargs)\n"
     ]
    }
   ],
   "source": [
    "model.compile(optimizer=Adam(lr=0.0001), loss = 'binary_crossentropy', metrics=['accuracy'])"
   ]
  },
  {
   "cell_type": "code",
   "execution_count": 24,
   "metadata": {},
   "outputs": [
    {
     "name": "stdout",
     "output_type": "stream",
     "text": [
      "Epoch 1/20\n",
      "25/25 [==============================] - 1s 13ms/step - loss: 0.7543 - accuracy: 0.6557 - val_loss: 0.6298 - val_accuracy: 0.8832\n",
      "Epoch 2/20\n",
      "25/25 [==============================] - 0s 5ms/step - loss: 0.4458 - accuracy: 0.8107 - val_loss: 0.5792 - val_accuracy: 0.8934\n",
      "Epoch 3/20\n",
      "25/25 [==============================] - 0s 5ms/step - loss: 0.4001 - accuracy: 0.8551 - val_loss: 0.5356 - val_accuracy: 0.9036\n",
      "Epoch 4/20\n",
      "25/25 [==============================] - 0s 5ms/step - loss: 0.3069 - accuracy: 0.8907 - val_loss: 0.5001 - val_accuracy: 0.9239\n",
      "Epoch 5/20\n",
      "25/25 [==============================] - 0s 5ms/step - loss: 0.3173 - accuracy: 0.8856 - val_loss: 0.4617 - val_accuracy: 0.9289\n",
      "Epoch 6/20\n",
      "25/25 [==============================] - 0s 5ms/step - loss: 0.2791 - accuracy: 0.8971 - val_loss: 0.4265 - val_accuracy: 0.9340\n",
      "Epoch 7/20\n",
      "25/25 [==============================] - 0s 5ms/step - loss: 0.2468 - accuracy: 0.9111 - val_loss: 0.3888 - val_accuracy: 0.9340\n",
      "Epoch 8/20\n",
      "25/25 [==============================] - 0s 5ms/step - loss: 0.2339 - accuracy: 0.9314 - val_loss: 0.3584 - val_accuracy: 0.9391\n",
      "Epoch 9/20\n",
      "25/25 [==============================] - 0s 5ms/step - loss: 0.2133 - accuracy: 0.9225 - val_loss: 0.3230 - val_accuracy: 0.9289\n",
      "Epoch 10/20\n",
      "25/25 [==============================] - 0s 5ms/step - loss: 0.2021 - accuracy: 0.9199 - val_loss: 0.2846 - val_accuracy: 0.9239\n",
      "Epoch 11/20\n",
      "25/25 [==============================] - 0s 5ms/step - loss: 0.2243 - accuracy: 0.9276 - val_loss: 0.2612 - val_accuracy: 0.9239\n",
      "Epoch 12/20\n",
      "25/25 [==============================] - 0s 5ms/step - loss: 0.2151 - accuracy: 0.9187 - val_loss: 0.2427 - val_accuracy: 0.9239\n",
      "Epoch 13/20\n",
      "25/25 [==============================] - 0s 5ms/step - loss: 0.2003 - accuracy: 0.9314 - val_loss: 0.2281 - val_accuracy: 0.9239\n",
      "Epoch 14/20\n",
      "25/25 [==============================] - 0s 5ms/step - loss: 0.2031 - accuracy: 0.9276 - val_loss: 0.2151 - val_accuracy: 0.9239\n",
      "Epoch 15/20\n",
      "25/25 [==============================] - 0s 5ms/step - loss: 0.2082 - accuracy: 0.9250 - val_loss: 0.2057 - val_accuracy: 0.9188\n",
      "Epoch 16/20\n",
      "25/25 [==============================] - 0s 5ms/step - loss: 0.1962 - accuracy: 0.9377 - val_loss: 0.1961 - val_accuracy: 0.9188\n",
      "Epoch 17/20\n",
      "25/25 [==============================] - 0s 5ms/step - loss: 0.1848 - accuracy: 0.9352 - val_loss: 0.1929 - val_accuracy: 0.9239\n",
      "Epoch 18/20\n",
      "25/25 [==============================] - 0s 5ms/step - loss: 0.1942 - accuracy: 0.9314 - val_loss: 0.1891 - val_accuracy: 0.9239\n",
      "Epoch 19/20\n",
      "25/25 [==============================] - 0s 5ms/step - loss: 0.1743 - accuracy: 0.9377 - val_loss: 0.1853 - val_accuracy: 0.9239\n",
      "Epoch 20/20\n",
      "25/25 [==============================] - 0s 5ms/step - loss: 0.1722 - accuracy: 0.9365 - val_loss: 0.1821 - val_accuracy: 0.9239\n"
     ]
    }
   ],
   "source": [
    "history = model.fit(X_train, y_train, epochs=epochs, validation_data=(X_test, y_test), verbose=1)"
   ]
  },
  {
   "cell_type": "code",
   "execution_count": 25,
   "metadata": {},
   "outputs": [],
   "source": [
    "def plot_learningCurve(history, epoch):\n",
    "  # Plot training & validation accuracy values\n",
    "  epoch_range = range(1, epoch+1)\n",
    "  plt.plot(epoch_range, history.history['accuracy'])\n",
    "  plt.plot(epoch_range, history.history['val_accuracy'])\n",
    "  plt.title('Model accuracy')\n",
    "  plt.ylabel('Accuracy')\n",
    "  plt.xlabel('Epoch')\n",
    "  plt.legend(['Train', 'Val'], loc='upper left')\n",
    "  plt.show()\n",
    "\n",
    "  # Plot training & validation loss values\n",
    "  plt.plot(epoch_range, history.history['loss'])\n",
    "  plt.plot(epoch_range, history.history['val_loss'])\n",
    "  plt.title('Model loss')\n",
    "  plt.ylabel('Loss')\n",
    "  plt.xlabel('Epoch')\n",
    "  plt.legend(['Train', 'Val'], loc='upper left')\n",
    "  plt.show()"
   ]
  },
  {
   "cell_type": "code",
   "execution_count": 26,
   "metadata": {},
   "outputs": [
    {
     "data": {
      "image/png": "[encoded data removed]",
      "text/plain": [
       "<Figure size 432x288 with 1 Axes>"
      ]
     },
     "metadata": {
      "needs_background": "light"
     },
     "output_type": "display_data"
    },
    {
     "data": {
      "image/png": "[encoded data removed]",
      "text/plain": [
       "<Figure size 432x288 with 1 Axes>"
      ]
     },
     "metadata": {
      "needs_background": "light"
     },
     "output_type": "display_data"
    }
   ],
   "source": [
    "plot_learningCurve(history, epochs)"
   ]
  },
  {
   "cell_type": "code",
   "execution_count": null,
   "metadata": {},
   "outputs": [],
   "source": []
  },
  {
   "cell_type": "code",
   "execution_count": 30,
   "metadata": {},
   "outputs": [],
   "source": [
    "\n",
    "\n",
    "\n",
    "predict_x=model.predict(X_test) \n",
    "y_pred=np.argmax(predict_x,axis=1)"
   ]
  },
  {
   "cell_type": "code",
   "execution_count": 31,
   "metadata": {},
   "outputs": [
    {
     "data": {
      "text/plain": [
       "array([[99,  0],\n",
       "       [98,  0]])"
      ]
     },
     "execution_count": 31,
     "metadata": {},
     "output_type": "execute_result"
    }
   ],
   "source": [
    "cm_nn=confusion_matrix(y_test, y_pred)\n",
    "cm_nn"
   ]
  },
  {
   "cell_type": "code",
   "execution_count": 32,
   "metadata": {},
   "outputs": [
    {
     "data": {
      "text/plain": [
       "Text(0.5, 1.0, 'Confusion Matrix Plotting for Neural Network model')"
      ]
     },
     "execution_count": 32,
     "metadata": {},
     "output_type": "execute_result"
    },
    {
     "data": {
      "image/png": "[encoded data removed]",
      "text/plain": [
       "<Figure size 576x432 with 1 Axes>"
      ]
     },
     "metadata": {
      "needs_background": "light"
     },
     "output_type": "display_data"
    }
   ],
   "source": [
    "plt.figure(figsize=(8,6))\n",
    "sns.set(font_scale=1.2)\n",
    "sns.heatmap(cm_nn, annot=True, fmt = 'g', cmap=\"winter\", cbar = False)\n",
    "plt.xlabel(\"Predicted Label\", size = 18)\n",
    "plt.ylabel(\"True Label\", size = 18)\n",
    "plt.title(\"Confusion Matrix Plotting for Neural Network model\", size = 20)"
   ]
  },
  {
   "cell_type": "code",
   "execution_count": null,
   "metadata": {},
   "outputs": [],
   "source": []
  },
  {
   "cell_type": "markdown",
   "metadata": {},
   "source": [
    "### Adding MaxPool "
   ]
  },
  {
   "cell_type": "code",
   "execution_count": 27,
   "metadata": {},
   "outputs": [
    {
     "name": "stdout",
     "output_type": "stream",
     "text": [
      "Epoch 1/50\n",
      "25/25 [==============================] - 1s 10ms/step - loss: 1.3586 - accuracy: 0.5388 - val_loss: 0.6755 - val_accuracy: 0.6447\n",
      "Epoch 2/50\n",
      "25/25 [==============================] - 0s 4ms/step - loss: 1.0607 - accuracy: 0.6112 - val_loss: 0.6343 - val_accuracy: 0.7005\n",
      "Epoch 3/50\n",
      "25/25 [==============================] - 0s 4ms/step - loss: 0.9230 - accuracy: 0.6366 - val_loss: 0.6067 - val_accuracy: 0.6548\n",
      "Epoch 4/50\n",
      "25/25 [==============================] - 0s 4ms/step - loss: 0.7747 - accuracy: 0.7001 - val_loss: 0.5895 - val_accuracy: 0.6396\n",
      "Epoch 5/50\n",
      "25/25 [==============================] - 0s 7ms/step - loss: 0.6142 - accuracy: 0.7433 - val_loss: 0.5775 - val_accuracy: 0.6548\n",
      "Epoch 6/50\n",
      "25/25 [==============================] - 0s 5ms/step - loss: 0.6110 - accuracy: 0.7433 - val_loss: 0.5619 - val_accuracy: 0.6751\n",
      "Epoch 7/50\n",
      "25/25 [==============================] - 0s 4ms/step - loss: 0.6253 - accuracy: 0.7586 - val_loss: 0.5438 - val_accuracy: 0.6904\n",
      "Epoch 8/50\n",
      "25/25 [==============================] - 0s 4ms/step - loss: 0.6057 - accuracy: 0.7764 - val_loss: 0.5228 - val_accuracy: 0.7157\n",
      "Epoch 9/50\n",
      "25/25 [==============================] - 0s 4ms/step - loss: 0.5010 - accuracy: 0.7980 - val_loss: 0.4965 - val_accuracy: 0.7411\n",
      "Epoch 10/50\n",
      "25/25 [==============================] - 0s 4ms/step - loss: 0.4634 - accuracy: 0.8158 - val_loss: 0.4728 - val_accuracy: 0.7614\n",
      "Epoch 11/50\n",
      "25/25 [==============================] - 0s 5ms/step - loss: 0.4474 - accuracy: 0.8145 - val_loss: 0.4481 - val_accuracy: 0.8020\n",
      "Epoch 12/50\n",
      "25/25 [==============================] - 0s 4ms/step - loss: 0.4898 - accuracy: 0.8297 - val_loss: 0.4228 - val_accuracy: 0.8122\n",
      "Epoch 13/50\n",
      "25/25 [==============================] - 0s 4ms/step - loss: 0.4274 - accuracy: 0.8399 - val_loss: 0.4024 - val_accuracy: 0.8376\n",
      "Epoch 14/50\n",
      "25/25 [==============================] - 0s 5ms/step - loss: 0.3962 - accuracy: 0.8526 - val_loss: 0.3843 - val_accuracy: 0.8376\n",
      "Epoch 15/50\n",
      "25/25 [==============================] - 0s 4ms/step - loss: 0.3903 - accuracy: 0.8513 - val_loss: 0.3679 - val_accuracy: 0.8477\n",
      "Epoch 16/50\n",
      "25/25 [==============================] - 0s 4ms/step - loss: 0.3980 - accuracy: 0.8539 - val_loss: 0.3523 - val_accuracy: 0.8528\n",
      "Epoch 17/50\n",
      "25/25 [==============================] - 0s 4ms/step - loss: 0.3720 - accuracy: 0.8653 - val_loss: 0.3431 - val_accuracy: 0.8528\n",
      "Epoch 18/50\n",
      "25/25 [==============================] - 0s 5ms/step - loss: 0.3322 - accuracy: 0.8856 - val_loss: 0.3344 - val_accuracy: 0.8579\n",
      "Epoch 19/50\n",
      "25/25 [==============================] - 0s 5ms/step - loss: 0.4182 - accuracy: 0.8742 - val_loss: 0.3257 - val_accuracy: 0.8629\n",
      "Epoch 20/50\n",
      "25/25 [==============================] - 0s 5ms/step - loss: 0.3671 - accuracy: 0.8640 - val_loss: 0.3190 - val_accuracy: 0.8680\n",
      "Epoch 21/50\n",
      "25/25 [==============================] - 0s 4ms/step - loss: 0.3345 - accuracy: 0.8818 - val_loss: 0.3144 - val_accuracy: 0.8731\n",
      "Epoch 22/50\n",
      "25/25 [==============================] - 0s 5ms/step - loss: 0.3121 - accuracy: 0.8971 - val_loss: 0.3143 - val_accuracy: 0.8832\n",
      "Epoch 23/50\n",
      "25/25 [==============================] - 0s 4ms/step - loss: 0.3459 - accuracy: 0.8640 - val_loss: 0.3113 - val_accuracy: 0.8883\n",
      "Epoch 24/50\n",
      "25/25 [==============================] - 0s 5ms/step - loss: 0.3071 - accuracy: 0.8856 - val_loss: 0.3070 - val_accuracy: 0.8883\n",
      "Epoch 25/50\n",
      "25/25 [==============================] - 0s 5ms/step - loss: 0.3325 - accuracy: 0.8767 - val_loss: 0.3045 - val_accuracy: 0.8883\n",
      "Epoch 26/50\n",
      "25/25 [==============================] - 0s 4ms/step - loss: 0.3550 - accuracy: 0.8729 - val_loss: 0.3016 - val_accuracy: 0.8883\n",
      "Epoch 27/50\n",
      "25/25 [==============================] - 0s 5ms/step - loss: 0.3594 - accuracy: 0.8704 - val_loss: 0.2995 - val_accuracy: 0.8934\n",
      "Epoch 28/50\n",
      "25/25 [==============================] - 0s 4ms/step - loss: 0.2882 - accuracy: 0.8958 - val_loss: 0.2987 - val_accuracy: 0.8934\n",
      "Epoch 29/50\n",
      "25/25 [==============================] - 0s 4ms/step - loss: 0.3444 - accuracy: 0.8983 - val_loss: 0.2987 - val_accuracy: 0.8934\n",
      "Epoch 30/50\n",
      "25/25 [==============================] - 0s 4ms/step - loss: 0.2802 - accuracy: 0.8869 - val_loss: 0.2980 - val_accuracy: 0.8985\n",
      "Epoch 31/50\n",
      "25/25 [==============================] - 0s 4ms/step - loss: 0.3024 - accuracy: 0.8818 - val_loss: 0.2952 - val_accuracy: 0.8985\n",
      "Epoch 32/50\n",
      "25/25 [==============================] - 0s 4ms/step - loss: 0.2786 - accuracy: 0.8983 - val_loss: 0.2945 - val_accuracy: 0.8985\n",
      "Epoch 33/50\n",
      "25/25 [==============================] - 0s 4ms/step - loss: 0.3037 - accuracy: 0.8958 - val_loss: 0.2904 - val_accuracy: 0.8985\n",
      "Epoch 34/50\n",
      "25/25 [==============================] - 0s 4ms/step - loss: 0.2952 - accuracy: 0.8895 - val_loss: 0.2869 - val_accuracy: 0.8985\n",
      "Epoch 35/50\n",
      "25/25 [==============================] - 0s 4ms/step - loss: 0.2596 - accuracy: 0.9072 - val_loss: 0.2879 - val_accuracy: 0.8985\n",
      "Epoch 36/50\n",
      "25/25 [==============================] - 0s 4ms/step - loss: 0.3018 - accuracy: 0.8996 - val_loss: 0.2860 - val_accuracy: 0.8985\n",
      "Epoch 37/50\n",
      "25/25 [==============================] - 0s 4ms/step - loss: 0.2896 - accuracy: 0.8983 - val_loss: 0.2859 - val_accuracy: 0.8985\n",
      "Epoch 38/50\n",
      "25/25 [==============================] - 0s 4ms/step - loss: 0.2693 - accuracy: 0.9149 - val_loss: 0.2834 - val_accuracy: 0.8985\n",
      "Epoch 39/50\n",
      "25/25 [==============================] - 0s 4ms/step - loss: 0.2824 - accuracy: 0.9047 - val_loss: 0.2823 - val_accuracy: 0.8985\n",
      "Epoch 40/50\n",
      "25/25 [==============================] - 0s 6ms/step - loss: 0.2542 - accuracy: 0.9060 - val_loss: 0.2816 - val_accuracy: 0.8985\n",
      "Epoch 41/50\n",
      "25/25 [==============================] - 0s 4ms/step - loss: 0.2991 - accuracy: 0.9034 - val_loss: 0.2803 - val_accuracy: 0.8985\n",
      "Epoch 42/50\n",
      "25/25 [==============================] - 0s 4ms/step - loss: 0.2670 - accuracy: 0.9022 - val_loss: 0.2829 - val_accuracy: 0.8985\n",
      "Epoch 43/50\n",
      "25/25 [==============================] - 0s 4ms/step - loss: 0.2692 - accuracy: 0.9047 - val_loss: 0.2848 - val_accuracy: 0.8985\n",
      "Epoch 44/50\n",
      "25/25 [==============================] - 0s 4ms/step - loss: 0.2366 - accuracy: 0.9250 - val_loss: 0.2831 - val_accuracy: 0.8985\n",
      "Epoch 45/50\n",
      "25/25 [==============================] - 0s 4ms/step - loss: 0.2567 - accuracy: 0.9009 - val_loss: 0.2812 - val_accuracy: 0.8985\n",
      "Epoch 46/50\n",
      "25/25 [==============================] - 0s 4ms/step - loss: 0.2591 - accuracy: 0.9047 - val_loss: 0.2780 - val_accuracy: 0.8985\n",
      "Epoch 47/50\n",
      "25/25 [==============================] - 0s 4ms/step - loss: 0.2578 - accuracy: 0.9123 - val_loss: 0.2767 - val_accuracy: 0.8985\n",
      "Epoch 48/50\n",
      "25/25 [==============================] - 0s 5ms/step - loss: 0.2830 - accuracy: 0.9098 - val_loss: 0.2744 - val_accuracy: 0.8985\n",
      "Epoch 49/50\n",
      "25/25 [==============================] - 0s 4ms/step - loss: 0.2753 - accuracy: 0.9009 - val_loss: 0.2734 - val_accuracy: 0.8985\n",
      "Epoch 50/50\n",
      "25/25 [==============================] - 0s 4ms/step - loss: 0.2426 - accuracy: 0.9047 - val_loss: 0.2745 - val_accuracy: 0.8985\n"
     ]
    },
    {
     "data": {
      "image/png": "[encoded data removed]",
      "text/plain": [
       "<Figure size 432x288 with 1 Axes>"
      ]
     },
     "metadata": {
      "needs_background": "light"
     },
     "output_type": "display_data"
    },
    {
     "data": {
      "image/png": "[encoded data removed]",
      "text/plain": [
       "<Figure size 432x288 with 1 Axes>"
      ]
     },
     "metadata": {
      "needs_background": "light"
     },
     "output_type": "display_data"
    }
   ],
   "source": [
    "epochs = 50\n",
    "model = Sequential()\n",
    "model.add(Conv1D(32, 2, activation='relu', input_shape = X_train[0].shape))\n",
    "model.add(BatchNormalization())\n",
    "model.add(MaxPool1D(2))\n",
    "model.add(Dropout(0.2))\n",
    "\n",
    "model.add(Conv1D(64, 2, activation='relu'))\n",
    "model.add(BatchNormalization())\n",
    "model.add(MaxPool1D(2))\n",
    "model.add(Dropout(0.5))\n",
    "\n",
    "model.add(Flatten())\n",
    "model.add(Dense(64, activation='relu'))\n",
    "model.add(Dropout(0.5))\n",
    "\n",
    "model.add(Dense(1, activation='sigmoid'))\n",
    "\n",
    "model.compile(optimizer=Adam(lr=0.0001), loss = 'binary_crossentropy', metrics=['accuracy'])\n",
    "history = model.fit(X_train, y_train, epochs=epochs, validation_data=(X_test, y_test), verbose=1)\n",
    "plot_learningCurve(history, epochs)"
   ]
  },
  {
   "cell_type": "code",
   "execution_count": 30,
   "metadata": {},
   "outputs": [],
   "source": [
    "import numpy as np\n",
    "from sklearn.metrics import confusion_matrix, accuracy_score, classification_report\n",
    "\n",
    "\n",
    "predict_x=model.predict(X_test) \n",
    "y_pred=np.argmax(predict_x,axis=1)"
   ]
  },
  {
   "cell_type": "code",
   "execution_count": 31,
   "metadata": {},
   "outputs": [
    {
     "data": {
      "text/plain": [
       "array([[99,  0],\n",
       "       [98,  0]])"
      ]
     },
     "execution_count": 31,
     "metadata": {},
     "output_type": "execute_result"
    }
   ],
   "source": [
    "cm_nn=confusion_matrix(y_test, y_pred)\n",
    "cm_nn"
   ]
  },
  {
   "cell_type": "code",
   "execution_count": 32,
   "metadata": {},
   "outputs": [
    {
     "data": {
      "text/plain": [
       "Text(0.5, 1.0, 'Confusion Matrix Plotting for Neural Network model')"
      ]
     },
     "execution_count": 32,
     "metadata": {},
     "output_type": "execute_result"
    },
    {
     "data": {
      "image/png": "[encoded data removed]",
      "text/plain": [
       "<Figure size 576x432 with 1 Axes>"
      ]
     },
     "metadata": {
      "needs_background": "light"
     },
     "output_type": "display_data"
    }
   ],
   "source": [
    "plt.figure(figsize=(8,6))\n",
    "sns.set(font_scale=1.2)\n",
    "sns.heatmap(cm_nn, annot=True, fmt = 'g', cmap=\"winter\", cbar = False)\n",
    "plt.xlabel(\"Predicted Label\", size = 18)\n",
    "plt.ylabel(\"True Label\", size = 18)\n",
    "plt.title(\"Confusion Matrix Plotting for Neural Network model\", size = 20)"
   ]
  },
  {
   "cell_type": "code",
   "execution_count": null,
   "metadata": {},
   "outputs": [],
   "source": []
  }
 ],
 "metadata": {
  "kernelspec": {
   "display_name": "Python 3 (ipykernel)",
   "language": "python",
   "name": "python3"
  },
  "language_info": {
   "codemirror_mode": {
    "name": "ipython",
    "version": 3
   },
   "file_extension": ".py",
   "mimetype": "text/x-python",
   "name": "python",
   "nbconvert_exporter": "python",
   "pygments_lexer": "ipython3",
   "version": "3.8.8"
  }
 },
 "nbformat": 4,
 "nbformat_minor": 4
}
